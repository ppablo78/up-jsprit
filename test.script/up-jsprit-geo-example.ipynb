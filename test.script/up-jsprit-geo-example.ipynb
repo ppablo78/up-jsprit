{
 "cells": [
  {
   "cell_type": "markdown",
   "id": "dec63cd5-16ed-467e-8dff-fe1b1143036d",
   "metadata": {},
   "source": [
    "# Basic Example\n",
    "\n",
    "This python notebook explains how to use the UP-JSPRIT library [Up-JSprit](www.google.com) for solving a Vehicle Routing Problem using the [Jsprit](https://github.com/graphhopper/jsprit) library where:\n",
    "- locations are expressed in term of latitude and longitude\n",
    "- the distance between two locations is evaluated using real data (provided through GraphHopper API) and used to calculate the cost matrix\n",
    "- the real travel time between two locations is evaluated using real data (provided through Graphhopper API)  and used to calculate the cost matrix\n",
    "\n",
    "The example wll go through the following main steps:\n",
    "- Definition of a Vehicle Routing Problem using the unified-planning-library\n",
    "- Call the ip-jsprit Solution Planner\n",
    "- Show VRP Solution\n",
    "\n",
    "**NOTE**: to run the example is needed to request an API_KEY from [GraphHopper](https://www.graphhopper.com/) website.\n",
    " parallel."
   ]
  },
  {
   "cell_type": "markdown",
   "id": "c36e912b-f046-4073-a848-16637f550739",
   "metadata": {},
   "source": [
    "## Setup\n",
    "\n",
    "The first step is the installation of following libraries and their dependencies from PyPi:\n",
    "- the version 1.0.4 (the last currently available) of the up-jsprit library\n",
    "- unified_planning library"
   ]
  },
  {
   "cell_type": "code",
   "execution_count": null,
   "id": "8ce07dcb-9010-47c7-bb8c-c5acdfb62c80",
   "metadata": {},
   "outputs": [],
   "source": [
    "!pip install up-jsprit\n",
    "!pip install unified_planning"
   ]
  },
  {
   "cell_type": "markdown",
   "id": "4f4f125a-60ee-4fbd-b8e4-35f6391090cf",
   "metadata": {},
   "source": [
    "## Imports\n",
    "\n",
    "The libraries are imported for the correct running of the example"
   ]
  },
  {
   "cell_type": "code",
   "execution_count": null,
   "id": "7ea1c8e6-bd8f-4c2a-a11e-11630a5a97cf",
   "metadata": {},
   "outputs": [],
   "source": [
    "import up_jsprit\n",
    "from unified_planning.shortcuts import *\n",
    "import unified_planning as up\n",
    "from unified_planning import engines\n",
    "from unified_planning.shortcuts import OneshotPlanner"
   ]
  },
  {
   "cell_type": "markdown",
   "id": "9fcd6690-922d-4e0a-9aa5-b2e49865ad09",
   "metadata": {},
   "source": [
    "## Problem Domain representation\n",
    "\n",
    "In this example, a simple Vehicle Routing Problem (VRP) is specified where some items are located in a certain places and two Vehicles are in charge to pickup and deliver them in the final depot.\n",
    "\n",
    "The example shows how to:\n",
    "- define locations using latitude and longitude\n",
    "- define characteristics of the key actions:\n",
    "  - pickup:it represents the load of a good from a customer placed at a certain location to the vehicle\n",
    "  - delivery: it represents the unload of a good from a vehicle to the Customer placed in a certain location\n",
    "- define characteristics of the vehicle\n",
    "  - load capacity: the maximum capacity that can be loaded on a vehicle\n",
    "  - fixed cost: cost that does not depend on the travel distance\n",
    "  - variable cost: cost that depend on the travel distance\n",
    "- define characteristics of the item to be served:\n",
    "   - time window availability\n",
    "   - weight of each item\n",
    "   - time needed for completing the service (delivery or pickup)\n",
    "- manage the up-jpsrit library to solve the problem customizing the input parameters and the output, including the visualization on a georeferenced map.\n",
    " \n",
    "Opportunely combining these elements it is possible to build complex examples like: \n",
    "- **CVRP** (Capacitated Vehicle Routing Problem): it is a VRP in which Vehicles have a limited carrying capacity of the goods that must be delivered\n",
    "- **DVRP**P (Durative Vehicle Routing Problem): a classic VRP in which a duration is assigned to each action\n",
    "- **VRPTW** W (Vehicle Routing Problem with Time Window): it is a generalization of the VRP where the service at any customer starts within a given time interval, called a time wind\n",
    "- **MDVRP** (Multil Depot Vehicle Routing Problem): is a route optimization problem that involves selecting the most-effective route to deliver goods or services from multiple depots to a group of clients\n",
    "- **VRPD** (Vehicle Routing with Pickups and Deliveries) is a VRP in which the possibility that customers return some commodities is contemplated. In VRPPD it’s needed to take into account that the goods that customers return to the delivery vehicle must fit into\n",
    "- **VRPBTW** (Vehicle Routing Problem with Backhauls and Time Windows): involves the pickup and delivery of goods at different customer locations, with earliest and latest time deadlines, and varying demands. The demands are serviced using capacitated vehicles with limited route time. Moreover, all deliveries (linehauls) must be done before the pickups (backhauls)\n",
    "\n",
    "\n",
    "#### Types\n",
    "\n",
    "The step in defining the Problem Domain, referring to the [PDDL](https://planning.wiki/ref/pddl/domain) standard language, is to establish the set of uce a \"Userneeded Type\" to model the cs needed for defining the domain of problems that can be solved by the JSprit Library`. "
   ]
  },
  {
   "cell_type": "code",
   "execution_count": null,
   "id": "1922a489-3f5c-4189-8d3b-70ef2dcc6b9f",
   "metadata": {},
   "outputs": [],
   "source": [
    "######################################################################################\n",
    "# DEFINE PROBLEM DOMAIN\n",
    "######################################################################################\n",
    "\n",
    "######################################################################################\n",
    "# DEFINE USERTYPES\n",
    "######################################################################################\n",
    "\n",
    "Place = UserType(\"place\")\n",
    "VehicleType = UserType(\"VehicleType\")\n",
    "Locatable = UserType(\"Locatable\")\n",
    "\n",
    "Freight = UserType(\"Freight\", Locatable)\n",
    "Vehicle = UserType(\"Vehicle\", Locatable)\n",
    "Location = UserType(\"Location\", Locatable)"
   ]
  },
  {
   "cell_type": "markdown",
   "id": "be3ba388-5312-4326-8a31-9ad770d4b256",
   "metadata": {},
   "source": [
    "#### Fluents\n",
    "The second step in defining the Problem Domain, is to establish the set of \"FLuents\" needed to model the concepts needed to represent a problem\n",
    "\n",
    "A set of numeric Fluents are defined to specify properties of:\n",
    "- Services (pickup or delivery)\n",
    "- Vehicle types"
   ]
  },
  {
   "cell_type": "code",
   "execution_count": null,
   "id": "cf25134b-097f-46b1-97fb-776714343469",
   "metadata": {},
   "outputs": [],
   "source": [
    "######################################################################################\n",
    "# DEFINE FLUENTS\n",
    "######################################################################################\n",
    "\n",
    "is_in = Fluent(\"is_in\", BoolType(), f=Freight, l=Location)\n",
    "is_at = Fluent(\"is_at\", BoolType(), v=Vehicle, l=Location)\n",
    "is_on = Fluent(\"is_on\", BoolType(), f=Freight, v=Vehicle)\n",
    "is_of = Fluent(\"is_of\", BoolType(), v=Vehicle, vT=VehicleType)\n",
    "using = Fluent(\"using\", BoolType(), v=Vehicle)\n",
    "t_earliest = Fluent(\"t_earliest\", IntType(), f=Freight)\n",
    "t_latest = Fluent(\"t_latest\", IntType(), f=Freight)\n",
    "x = Fluent('x', RealType(), l=Location)\n",
    "y = Fluent('y', RealType(), l=Location)\n",
    "\n",
    "# DEFINE FLUENTS FOR SERVICE - PICKUP OR DELIVERY\n",
    "weight = Fluent(\"weight\", RealType(), f=Freight)\n",
    "loadTime = Fluent(\"loadTime\", RealType(), f=Freight)\n",
    "\n",
    "# DEFINE FLUENTS FOR VEHICLE TYPE\n",
    "maxLoad = Fluent(\"maxLoad\", RealType(), v=VehicleType)\n",
    "fixedCost = Fluent(\"fixedCost\", RealType(), vT=VehicleType)\n",
    "variableCost = Fluent(\"variableCost\", RealType(), vT=VehicleType)"
   ]
  },
  {
   "cell_type": "markdown",
   "id": "5f4d1553-726a-4156-98af-7e37c8119210",
   "metadata": {},
   "source": [
    "#### Actions\n",
    "The third step in defining the Problem Domain, is to establish the set of \"Actions\" needed to model the concepts needed to represent a problem\n",
    "\n",
    "The actions allows to define different types of Vehicle routing Problems\n",
    "\n",
    "The following representation is specific for the VRP problems that can be solved using the Jsprit library. It can be further enriched specifying other characteristics like the skills needed to perform a service.\n",
    "This definition of Problem Domain is common to all the problems that can be solved interfacing the JSprit library with the up-jsprit library."
   ]
  },
  {
   "cell_type": "code",
   "execution_count": null,
   "id": "a24d6e93-9841-4d16-ac99-0a70bd4b959b",
   "metadata": {},
   "outputs": [],
   "source": [
    "######################################################################################\n",
    "# DEFINE ACTIONS\n",
    "######################################################################################\n",
    "\n",
    "drive = InstantaneousAction(\"drive\", v=Vehicle, l_from=Location, l_to=Location)\n",
    "v = drive.parameter(\"v\")\n",
    "l_from = drive.parameter(\"l_from\")\n",
    "l_to = drive.parameter(\"l_to\")\n",
    "\n",
    "drive.add_precondition(is_at(v, l_from))\n",
    "\n",
    "drive.add_effect(is_at(v, l_to), True)\n",
    "drive.add_effect(is_at(v, l_from), False)\n",
    "\n",
    "pickup = DurativeAction('pickup', f=Freight, l_from=Location, v=Vehicle, vt=VehicleType) \n",
    "f = pickup.parameter('f')\n",
    "l_from = pickup.parameter('l_from')\n",
    "v = pickup.parameter('v')\n",
    "vt = pickup.parameter('vt')\n",
    "\n",
    "\n",
    "pickup.set_fixed_duration(loadTime(f))\n",
    "pickup.add_condition(StartTiming(), LE(weight(f), maxLoad(vt)))\n",
    "#drive.add_precondition(is_in(f, l_from))\n",
    "\n",
    "pickup.add_condition(StartTiming(), is_at(v, l_from))\n",
    "pickup.add_condition(StartTiming(), is_in(f, l_from))\n",
    "pickup.add_condition(StartTiming(), LE (t_earliest(f), StartTiming()))\n",
    "pickup.add_condition(StartTiming(), GE (t_latest(f), StartTiming()))\n",
    "\n",
    "#pickup.add_increase_effect(EndTiming(), value_weight(l), value_maxLoad(mL))\n",
    "pickup.add_increase_effect(EndTiming(), weight(f), maxLoad(vt))\n",
    "pickup.add_effect(EndTiming(), is_in(f, l_from), False)\n",
    "pickup.add_effect(EndTiming(), is_on(f, v), True)\n",
    "\n",
    "\n",
    "delivery = DurativeAction('delivery', f=Freight, l_to=Location, v=Vehicle, vt=VehicleType)\n",
    "f = delivery.parameter('f')\n",
    "l_to = delivery.parameter('l_to')\n",
    "v = delivery.parameter('v')\n",
    "vt = delivery.parameter('vt')\n",
    "\n",
    "\n",
    "delivery.set_fixed_duration(loadTime(f))\n",
    "#drive.add_precondition(is_in(f, l_from))\n",
    "\n",
    "delivery.add_condition(StartTiming(), is_at(v, l_to))\n",
    "delivery.add_condition(StartTiming(), not (is_in(f, l_to)))\n",
    "delivery.add_condition(StartTiming(), LE (t_earliest(f), StartTiming()))\n",
    "delivery.add_condition(StartTiming(), GE (t_latest(f), StartTiming()))\n",
    "#delivery.add_condition(StartTiming(), available(f, l_to, t_earliest, t_lastest))\n",
    "\n",
    "delivery.add_decrease_effect(EndTiming(), weight(f), maxLoad(vt))\n",
    "delivery.add_effect(EndTiming(), is_in(f, l_to), True)\n",
    "delivery.add_effect(EndTiming(), is_on(f, v), False)"
   ]
  },
  {
   "cell_type": "markdown",
   "id": "dffe30b5-3eed-42db-acbe-8c382a52ed7c",
   "metadata": {},
   "source": [
    "## Problem Representation\n",
    "\n",
    "### Problem Initialization\n",
    "Once defined the problem domain, the VRP can be initialized providing a name a adding fluents and action. Then, the VRP can be specified in detalis providing initial values and final goals according to steps described as follows"
   ]
  },
  {
   "cell_type": "code",
   "execution_count": null,
   "id": "0a0f5950-e13f-4ff0-9a58-c3cf52959f01",
   "metadata": {},
   "outputs": [],
   "source": [
    "######################################################################################\n",
    "# DEFINE PROBLEM NAME\n",
    "######################################################################################\n",
    "\n",
    "problem = Problem('VehicleRoutingProblem')\n",
    "\n",
    "######################################################################################\n",
    "# INITIALIZE FLUENTS AND ACTIONS\n",
    "######################################################################################\n",
    "\n",
    "#problem.add_fluent(at)\n",
    "problem.add_fluent(is_in, default_initial_value=False)\n",
    "problem.add_fluent(is_on, default_initial_value=False)\n",
    "problem.add_fluent(is_at, default_initial_value=False)\n",
    "problem.add_fluent(t_earliest, default_initial_value=0)\n",
    "problem.add_fluent(t_latest, default_initial_value=100000)\n",
    "\n",
    "problem.add_fluent(weight, default_initial_value=0)\n",
    "problem.add_fluent(maxLoad, default_initial_value=0)\n",
    "\n",
    "problem.add_action(drive)\n",
    "problem.add_action(delivery)\n",
    "problem.add_action(pickup)"
   ]
  },
  {
   "cell_type": "markdown",
   "id": "adb530ed-3400-441a-8aaa-5e0d3fe5d437",
   "metadata": {},
   "source": [
    "### STEP 1 - Vehicle Type Definition\n",
    "The scope is to define the set of Vehicle Type used in the VRP. In a second step the Vehicle Type is assigned to one, more or all the Vehicle foreseen in the VRP. For sake of simplicity, in this example, only a Vehicle Type is considered."
   ]
  },
  {
   "cell_type": "code",
   "execution_count": null,
   "id": "486cd2b5-ba78-4ebf-9c06-644247592d79",
   "metadata": {},
   "outputs": [],
   "source": [
    "######################################################################################\n",
    "# STEP 1 - DEFINE VEHICLE TYPE\n",
    "######################################################################################\n",
    "\n",
    "vt1 = Object(\"vt1\", VehicleType)\n",
    "problem.add_object(vt1)"
   ]
  },
  {
   "cell_type": "markdown",
   "id": "618faff7-17da-4d1d-9ca1-362d649ffa05",
   "metadata": {},
   "source": [
    "### STEP 2 - Vehicle Definition\n",
    "The scope is to define the set of Vehicle used in the VRP. For sake of simplicity, in this example, only three Vehicles are considered. Note that the solution can involve only a subset of vehicles if it is less expensive solution."
   ]
  },
  {
   "cell_type": "code",
   "execution_count": null,
   "id": "7d3aa7a6-4d37-4b8a-b0de-1726652e52da",
   "metadata": {},
   "outputs": [],
   "source": [
    "######################################################################################\n",
    "# STEP 2 - DEFINE VEHICLE NAME\n",
    "######################################################################################\n",
    "\n",
    "v1 = Object(\"v1\", Vehicle)\n",
    "problem.add_object(v1)\n",
    "v2 = Object(\"v2\", Vehicle)\n",
    "problem.add_object(v2)\n",
    "v3 = Object(\"v3\", Vehicle)\n",
    "problem.add_object(v3)"
   ]
  },
  {
   "cell_type": "markdown",
   "id": "abdf38fe-1742-42f2-abb9-d8c451cfd5b5",
   "metadata": {},
   "source": [
    "### STEP 3 - Location Definition\n",
    "The scope is to define the locations where are the items to be delivered/picked-up and the depots where the vehicles are supposed to start and end the services. In this example, the initial and final destinations (depots) of all the vehicles are the locations named \"l0\" and \"l101\".\n",
    "Note that Vehicles can have different depots."
   ]
  },
  {
   "cell_type": "code",
   "execution_count": null,
   "id": "c3eea763-998e-495e-90fd-04273a0140c2",
   "metadata": {},
   "outputs": [],
   "source": [
    "######################################################################################\n",
    "# STEP 3 - DEFINE LOCATIONS - COORDINATES\n",
    "######################################################################################\n",
    "\n",
    "l0 = Object(\"l0\", Location) #Initial Depot for all the Vehicles\n",
    "problem.add_object(l0)\n",
    "l1 = Object(\"l1\", Location)\n",
    "problem.add_object(l1)\n",
    "l2 = Object(\"l2\", Location)\n",
    "problem.add_object(l2)\n",
    "l3 = Object(\"l3\", Location)\n",
    "problem.add_object(l3)\n",
    "l4 = Object(\"l4\", Location)\n",
    "problem.add_object(l4)\n",
    "l5 = Object(\"l5\", Location)\n",
    "problem.add_object(l5)\n",
    "l101 = Object(\"l101\", Location)  #Final Depot for all the Vehicles\n",
    "problem.add_object(l101)"
   ]
  },
  {
   "cell_type": "markdown",
   "id": "2bab4af3-1377-4aa2-b91f-0e4e8f0b8c02",
   "metadata": {},
   "source": [
    "### STEP 4 - Freight Definition\n",
    "The scope is to define the freights that have to be delivered and picked up. in the next step they will be assigned to a specific locations and further characterized with additional properties.\n",
    "In this example only 4 Freight are defined."
   ]
  },
  {
   "cell_type": "code",
   "execution_count": null,
   "id": "e8213a55-b695-4b9f-b753-efc7015a8ccb",
   "metadata": {},
   "outputs": [],
   "source": [
    "######################################################################################\n",
    "# STEP 4 - DEFINE FREIGHT  PARTICIPATING TO DELIVERY OR PICKUP\n",
    "######################################################################################\n",
    "\n",
    "f1 = Object(\"f1\", Freight)\n",
    "problem.add_object(f1)\n",
    "f2 = Object(\"f2\", Freight)\n",
    "problem.add_object(f2)\n",
    "f3 = Object(\"f3\", Freight)\n",
    "problem.add_object(f3)\n",
    "f4 = Object(\"f4\", Freight)\n",
    "problem.add_object(f4)\n"
   ]
  },
  {
   "cell_type": "markdown",
   "id": "aabb502d-3010-4eb8-951a-5ae609456389",
   "metadata": {},
   "source": [
    "### STEP 5 - Locations Coordinates Initialization\n",
    "The scope is to assign a value to the x and y coordinates of the Location entity. If the VRP problem is defined with georeferenced data, these values representes the latitude and longitude of the Location.\n",
    "The number is defined as an integer with only 4 decimal numbers. This assumption shall be carefully take into account when the User want to modify this data. "
   ]
  },
  {
   "cell_type": "code",
   "execution_count": null,
   "id": "c6242bcc-ddb9-462f-9352-3544c6850c1b",
   "metadata": {},
   "outputs": [],
   "source": [
    "######################################################################################\n",
    "# STEP 5 - INITIALIZE LOCATION COORDINATES\n",
    "######################################################################################\n",
    "\n",
    "problem.set_initial_value(x(l0), 419028)\n",
    "problem.set_initial_value(y(l0), 124964)\n",
    "problem.set_initial_value(x(l1), 418986)\n",
    "problem.set_initial_value(y(l1), 124739)\n",
    "problem.set_initial_value(x(l2), 419009)\n",
    "problem.set_initial_value(y(l2), 125025)\n",
    "problem.set_initial_value(x(l3), 419183)\n",
    "problem.set_initial_value(y(l3), 124667)\n",
    "problem.set_initial_value(x(l4), 418902)\n",
    "problem.set_initial_value(y(l4), 124923)\n",
    "problem.set_initial_value(x(l5), 418833)\n",
    "problem.set_initial_value(y(l5), 124541)\n",
    "problem.set_initial_value(x(l101), 419361) \n",
    "problem.set_initial_value(y(l101), 124690)"
   ]
  },
  {
   "cell_type": "markdown",
   "id": "794a3b10-cbc7-4297-9f6e-a0578eb74dd6",
   "metadata": {},
   "source": [
    "### STEP 6 - Service Property Initialization\n",
    "The scope is to assign a value to parameter that characterize a service (delivery or pickup). In the JSprit terminology, in addition to the delivery and pickup serivce, the shipment service is defined when an item is loaded (picked-up) and unloaded (delivered) in two different locations that are not the depots.\n",
    "For each freight the User can define following parameters:\n",
    "- **weight** that is summed or subtracted to the maximum capacity of the vechicle when it is picked-up or delivered\n",
    "- **loadTime** that is the time needed to perform the load or unload of the freight in the location\n",
    "- **time windows** of availability when the service can be performed"
   ]
  },
  {
   "cell_type": "code",
   "execution_count": null,
   "id": "0f9a3126-90bd-45c5-8ffe-583aa8291534",
   "metadata": {},
   "outputs": [],
   "source": [
    "######################################################################################\n",
    "# STEP 6 DEFINE PROPERTY OF THE SHIPMENT\n",
    "######################################################################################\n",
    "\n",
    "problem.set_initial_value(weight(f1), 10)\n",
    "problem.set_initial_value(loadTime(f1), 90)\n",
    "problem.set_initial_value(t_earliest(f1), 283000)\n",
    "problem.set_initial_value(t_latest(f1), 883000)\n",
    "\n",
    "problem.set_initial_value(weight(f2), 90)\n",
    "problem.set_initial_value(loadTime(f2), 90)\n",
    "problem.set_initial_value(t_earliest(f2), 15000)\n",
    "problem.set_initial_value(t_latest(f2), 716000)\n",
    "\n",
    "problem.set_initial_value(weight(f3), 40)\n",
    "problem.set_initial_value(loadTime(f3), 90)\n",
    "problem.set_initial_value(t_earliest(f3), 87000)\n",
    "problem.set_initial_value(t_latest(f3), 900000)\n",
    "\n",
    "problem.set_initial_value(weight(f4), 10)\n",
    "problem.set_initial_value(loadTime(f4), 90)\n",
    "problem.set_initial_value(t_earliest(f4), 65000)\n",
    "problem.set_initial_value(t_latest(f4), 716000)"
   ]
  },
  {
   "cell_type": "markdown",
   "id": "b2072a5a-a12e-4d3f-986a-419462bedb30",
   "metadata": {},
   "source": [
    "### STEP 7 - Vehicle Type Properties Initialization\n",
    "The scope is to assign a value to the following properties of Vehicle Type:\n",
    "- **maxLoad**: the maximum load alowed for the Vehicle Type\n",
    "- **fixedCosts**: it is fixed costs for each service\n",
    "- **variablecosts**: it is the costs per distance/time unit considered for each service\n",
    "\n",
    "In the Jsprit library these are a property of the Vehicle Type. Once assigned a Vehicle Type to the Vehicle it is applied to each vehicle.parameter that characterize a service (delivery or pickup). In the JSprit terminology, in addition to the delivery and pickup serivce, the shipment service is defined when an item.\n",
    "In this example only one Vehicle Type is defined and its properties defined."
   ]
  },
  {
   "cell_type": "code",
   "execution_count": null,
   "id": "a196dc11-5b1b-4a2c-b0d5-4dda7c990880",
   "metadata": {},
   "outputs": [],
   "source": [
    "######################################################################################\n",
    "# STEP 7 - INITIALIZE MAX CAPACITY, FIXED AND VARIABLE COSTS OF VEHICLES TYPE\n",
    "######################################################################################\n",
    "\n",
    "problem.set_initial_value(maxLoad(vt1),1000)\n",
    "problem.set_initial_value(fixedCost(vt1),22)\n",
    "problem.set_initial_value(variableCost(vt1),3)"
   ]
  },
  {
   "cell_type": "markdown",
   "id": "2b0299d8-6d94-4d72-844f-81c8297342b0",
   "metadata": {},
   "source": [
    "### STEP 8 - Vehicle Type Assignment\n",
    "The scope is to assign the defined Vehicle Types to the Vehicles defined for the VRP. In this example all the Vehicle are of the same Type "
   ]
  },
  {
   "cell_type": "code",
   "execution_count": null,
   "id": "ef0d0ed2-d85f-4c3a-a95c-c0603b52b413",
   "metadata": {},
   "outputs": [],
   "source": [
    "######################################################################################\n",
    "# STEP 8 - ASSIGN VEHICLE TYPE TO VEHICLE\n",
    "######################################################################################\n",
    "\n",
    "problem.set_initial_value(is_of(v1, vt1), True)\n",
    "problem.set_initial_value(is_of(v2, vt1), True)\n",
    "problem.set_initial_value(is_of(v3, vt1), True)"
   ]
  },
  {
   "cell_type": "markdown",
   "id": "f84f404a-0cee-462e-945a-b0d31d0fc76e",
   "metadata": {},
   "source": [
    "### STEP 9 - Assignment of Initial Location of Shipments\n",
    "The scope is to assign to each freight the location where they have to picked up. In this example all the freight are picked-up in differen locations and delivered to a the same depot. If the User want to define a different VRP where some freight are already in a depot, he shall simply assigne the freight to the depot location."
   ]
  },
  {
   "cell_type": "code",
   "execution_count": null,
   "id": "e2280b28-4267-468e-9ea7-82aef48e4a4f",
   "metadata": {},
   "outputs": [],
   "source": [
    "######################################################################################\n",
    "# STEP 9 - DEFINE INITIAL LOCATION OF SHIPMENTS - PICKUP\n",
    "######################################################################################\n",
    "\n",
    "problem.set_initial_value(is_in(f1, l1), True)\n",
    "problem.set_initial_value(is_in(f2, l2), True)\n",
    "problem.set_initial_value(is_in(f3, l3), True)\n",
    "problem.set_initial_value(is_in(f4, l4), True)"
   ]
  },
  {
   "cell_type": "markdown",
   "id": "160f1ddb-f9e3-43da-8470-e9f61355cbb0",
   "metadata": {},
   "source": [
    "### STEP 10 - Assignment of Initial Location of Vehicles\n",
    "The scope is to assign to each Vehicle the location where to start the services (depot). In this example all the Vehicles are assigned to the same depot (l0)."
   ]
  },
  {
   "cell_type": "code",
   "execution_count": null,
   "id": "77cf7fdb-2208-4456-b31f-9e9045f98b85",
   "metadata": {},
   "outputs": [],
   "source": [
    "######################################################################################\n",
    "# STEP 10 - DEFINE INITIAL LOCATION OF VEHICLES\n",
    "######################################################################################\n",
    "problem.set_initial_value(is_at(v1, l0), True)\n",
    "problem.set_initial_value(is_at(v2, l0), True)\n",
    "problem.set_initial_value(is_at(v3, l0), True)"
   ]
  },
  {
   "cell_type": "markdown",
   "id": "e35c0b34-6c44-4493-8bf0-b4f1df823f2a",
   "metadata": {},
   "source": [
    "### STEP 11 - Assignment of Final Location of Shipments\n",
    "The scope is to assign to each Freight the location where they shall be delivered. In this example the Freight f1, f2, f3 are delivered to the depot (using the Jsprit notation, this case correspond to a pickup service), f4 is delivered to the location l5 (using the Jsprit notation, this case correspond to a shipment service)."
   ]
  },
  {
   "cell_type": "code",
   "execution_count": null,
   "id": "1794f525-a417-4b12-ab19-3ff69d655a01",
   "metadata": {},
   "outputs": [],
   "source": [
    "######################################################################################\n",
    "# STEP 11 - DEFINE FINAL LOCATION OF SHIPMENT - DELIVERY\n",
    "######################################################################################\n",
    "\n",
    "problem.add_goal(is_in(f1, l101))\n",
    "problem.add_goal(is_in(f2, l101))\n",
    "problem.add_goal(is_in(f3, l101))\n",
    "problem.add_goal(is_in(f4, l5))"
   ]
  },
  {
   "cell_type": "markdown",
   "id": "531d211c-f1bf-4c53-8fbe-2bbbfe53ca67",
   "metadata": {},
   "source": [
    "### STEP 12 - Assignment of Final Location of Vehicles\n",
    "The scope is to assign to each Vehicle the location where to finish the services (depot). In this example all the Vehicles are assigned to the same final depot (l101)."
   ]
  },
  {
   "cell_type": "code",
   "execution_count": null,
   "id": "7ffe2d85-6bcb-40d3-afc4-a2d337dc3945",
   "metadata": {},
   "outputs": [],
   "source": [
    "######################################################################################\n",
    "# STEP 12 - DEFINE FINAL LOCATION OF VEHICLES - DEPOT\n",
    "######################################################################################\n",
    "\n",
    "problem.add_goal(is_at(v1, l101))\n",
    "problem.add_goal(is_at(v2, l101))\n",
    "problem.add_goal(is_at(v3, l101))\n",
    "\n",
    "print(problem)"
   ]
  },
  {
   "cell_type": "markdown",
   "id": "09ee1006-d0a1-40de-a4fb-d7ddf4770f85",
   "metadata": {},
   "source": [
    "### STEP 13 - Save the Problem\n",
    "The scope is to save the problem in a text file that can be parsed and injested to the Jsprit engine. The name and the path of the file can be changed and, by default is save in the ./ directory."
   ]
  },
  {
   "cell_type": "code",
   "execution_count": null,
   "id": "9e61ea00-b073-4398-ba8b-528c95ebbffb",
   "metadata": {},
   "outputs": [],
   "source": [
    "######################################################################################\n",
    "# STEP 13 - Save the Problem\n",
    "######################################################################################\n",
    "with open(\"./parsed_problem.txt\", 'w') as file:\n",
    "    file.write(str(problem))"
   ]
  },
  {
   "cell_type": "markdown",
   "id": "ca8351ec-6875-4c17-b8f3-9831ff9e50d4",
   "metadata": {},
   "source": [
    "### STEP 14 - Setup the Unified Planning Library\n",
    "The scope is to setup the Jsprit engine to solve the probelm using the up-jsprit library."
   ]
  },
  {
   "cell_type": "code",
   "execution_count": null,
   "id": "b8f1b9e2-bd74-430b-b868-a6698fe86abf",
   "metadata": {},
   "outputs": [],
   "source": [
    "######################################################################################\n",
    "# STEP 14 - Setup the UPL Environment\n",
    "######################################################################################\n",
    "env = up.environment.get_environment()\n",
    "env.factory.add_engine('jspritplanner', 'up_jsprit', 'JSpritSolver')"
   ]
  },
  {
   "cell_type": "markdown",
   "id": "db1854cb-3a66-4c1a-8e35-f3f299257a74",
   "metadata": {},
   "source": [
    "### STEP 15 - Save the Problem\n",
    "The scope is to solve the problem using the JSprit engine. The solve the problem it is possible to define the following parameters:\n",
    "- **max_iterations**: the maximum number of iteration to find the solution\n",
    "- **output_dir**: the directory where output are saved\n",
    "- **problem_filename**: the name of the text file where is saved the problem. The name shall be the same used in the step 13\n",
    "- **solution_filename**: the name of the filename containing the best solution found by the JSprit engine. The file is saved in the output directory previously specified\n",
    "- **geocoordinates**: sit specifies if the solution must be found using georeferenced data. This implies that the cost matrix is evaluated using real route obtained through the GraphHopper API\n",
    "- **api**: API for GraphHopper site\n",
    "- **debug**: it defines if additional info are printout dirung the execution for debug scopes. Default value is False,\n",
    "- **view** : it defines if a viewer showing the graph of the solution shall be prompted out. For Colab execution it must be set to False. Default Value True\n",
    "\n",
    "At the end of the process, the solution is evaluated as:\n",
    "- **SOLVED_OPTIMALLY** if all services requested are planned\n",
    "- **SOLVED_SATISFICING** if less than 10% of requested services are not planned\n",
    "- **UNSOLVED** if more than 10% of requested services are not planned\n"
   ]
  },
  {
   "cell_type": "code",
   "execution_count": null,
   "id": "ab72edfb-afb7-4f43-bda3-56504df62b5e",
   "metadata": {
    "scrolled": true
   },
   "outputs": [],
   "source": [
    "######################################################################################\n",
    "# STEP 15 - Solve the Problem\n",
    "######################################################################################\n",
    "\n",
    "with OneshotPlanner(name='jspritplanner', params = {'max_iterations' : 2000, 'output_dir' : '.\\\\', 'problem_filename' : 'parsed_problem.txt', 'solution_filename': 'BestSolution.txt', 'geocoordinates': True, 'debug': True, 'api' : '36d16024-8b24-4091-bb89-7adef7632a20','view' : False}) as p:\n",
    "    result = p.solve(problem)\n",
    "    if result.status == up.engines.PlanGenerationResultStatus.SOLVED_OPTIMALLY:\n",
    "        print(f'{p.name} found a valid plan!')\n",
    "        print(result.plan)\n",
    "    elif result.status == up.engines.PlanGenerationResultStatus.SOLVED_SATISFICING:\n",
    "        print(f'{p.name} found a satisficing plan!')\n",
    "        print(result.plan)\n",
    "    else:\n",
    "        print('No satisficin plan found!')"
   ]
  },
  {
   "cell_type": "markdown",
   "id": "4a654dab-23be-4f01-802c-2a4ec16ac0d0",
   "metadata": {},
   "source": [
    "### STEP 16 - View the Results\n",
    "\n",
    "The up-jSprit engine produce a set of files as ouput that can viewed by the User after the completion of the run:\n",
    "1) **routes_map.html** is an html page that show the routes planned\n",
    "2) **BestSolution.txt** is the solution. For each route it is specified\n",
    "   - the type of activity (start, pickup, deliver, end)\n",
    "   - the arrival time\n",
    "   - the departure time\n",
    "   - costs\n",
    "3) **SolutionPlot.png** show the solution on a simple graph. It is automatically produced by the JSprit library\n",
    "4) **solution_progress.png** shows the progress of the solution as function of the iterations\n",
    "\n",
    "  Other text files are produced when parsing the problem:\n",
    "  - goals.txt contains the info related to the goals to achieve. This file is further parsed by the up-jpsrit library and injested to th Jsprit engine solver\n",
    "  - initial values.txt contains the info related to the intial values of the VRP. This file is further parsed by the up-jpsrit library and injested to th Jsprit engine solver"
   ]
  },
  {
   "cell_type": "code",
   "execution_count": null,
   "id": "55a69ffb-90e1-485f-9ed6-e5b59b673cd7",
   "metadata": {},
   "outputs": [],
   "source": []
  }
 ],
 "metadata": {
  "kernelspec": {
   "display_name": "Python 3 (ipykernel)",
   "language": "python",
   "name": "python3"
  },
  "language_info": {
   "codemirror_mode": {
    "name": "ipython",
    "version": 3
   },
   "file_extension": ".py",
   "mimetype": "text/x-python",
   "name": "python",
   "nbconvert_exporter": "python",
   "pygments_lexer": "ipython3",
   "version": "3.11.4"
  }
 },
 "nbformat": 4,
 "nbformat_minor": 5
}
